{
 "cells": [
  {
   "cell_type": "markdown",
   "id": "1b4d7d98",
   "metadata": {},
   "source": [
    "## Read a CSV from s3"
   ]
  },
  {
   "cell_type": "code",
   "execution_count": 1,
   "id": "e1e6eda2",
   "metadata": {},
   "outputs": [
    {
     "data": {
      "text/html": [
       "<style type=\"text/css\">\n",
       "#T_8a479 table {\n",
       "  max-width: 1000px;\n",
       "  overflow-x: scroll;\n",
       "  display: block;\n",
       "}\n",
       "</style>\n",
       "<table id=\"T_8a479\">\n",
       "  <thead>\n",
       "    <tr>\n",
       "      <th class=\"blank level0\" >&nbsp;</th>\n",
       "      <th id=\"T_8a479_level0_col0\" class=\"col_heading level0 col0\" >ProjectID</th>\n",
       "      <th id=\"T_8a479_level0_col1\" class=\"col_heading level0 col1\" >OrganizationID</th>\n",
       "      <th id=\"T_8a479_level0_col2\" class=\"col_heading level0 col2\" >ProjectName</th>\n",
       "      <th id=\"T_8a479_level0_col3\" class=\"col_heading level0 col3\" >OperatingStartDate</th>\n",
       "      <th id=\"T_8a479_level0_col4\" class=\"col_heading level0 col4\" >OperatingEndDate</th>\n",
       "    </tr>\n",
       "  </thead>\n",
       "  <tbody>\n",
       "    <tr>\n",
       "      <th id=\"T_8a479_level0_row0\" class=\"row_heading level0 row0\" >0</th>\n",
       "      <td id=\"T_8a479_row0_col0\" class=\"data row0 col0\" >LA|1197</td>\n",
       "      <td id=\"T_8a479_row0_col1\" class=\"data row0 col1\" >LA|50</td>\n",
       "      <td id=\"T_8a479_row0_col2\" class=\"data row0 col2\" >La Kretz Villas</td>\n",
       "      <td id=\"T_8a479_row0_col3\" class=\"data row0 col3\" >2012-08-01</td>\n",
       "      <td id=\"T_8a479_row0_col4\" class=\"data row0 col4\" >nan</td>\n",
       "    </tr>\n",
       "    <tr>\n",
       "      <th id=\"T_8a479_level0_row1\" class=\"row_heading level0 row1\" >1</th>\n",
       "      <td id=\"T_8a479_row1_col0\" class=\"data row1 col0\" >LA|1216</td>\n",
       "      <td id=\"T_8a479_row1_col1\" class=\"data row1 col1\" >LA|8</td>\n",
       "      <td id=\"T_8a479_row1_col2\" class=\"data row1 col2\" >Family Transitions Project SPA 4 Metro</td>\n",
       "      <td id=\"T_8a479_row1_col3\" class=\"data row1 col3\" >2012-12-01</td>\n",
       "      <td id=\"T_8a479_row1_col4\" class=\"data row1 col4\" >2013-03-31</td>\n",
       "    </tr>\n",
       "    <tr>\n",
       "      <th id=\"T_8a479_level0_row2\" class=\"row_heading level0 row2\" >2</th>\n",
       "      <td id=\"T_8a479_row2_col0\" class=\"data row2 col0\" >LA|1218</td>\n",
       "      <td id=\"T_8a479_row2_col1\" class=\"data row2 col1\" >LA|8</td>\n",
       "      <td id=\"T_8a479_row2_col2\" class=\"data row2 col2\" >Family Transitions Project SPA 6 S. Los Angeles</td>\n",
       "      <td id=\"T_8a479_row2_col3\" class=\"data row2 col3\" >2012-12-01</td>\n",
       "      <td id=\"T_8a479_row2_col4\" class=\"data row2 col4\" >2013-03-31</td>\n",
       "    </tr>\n",
       "    <tr>\n",
       "      <th id=\"T_8a479_level0_row3\" class=\"row_heading level0 row3\" >3</th>\n",
       "      <td id=\"T_8a479_row3_col0\" class=\"data row3 col0\" >LA|1222</td>\n",
       "      <td id=\"T_8a479_row3_col1\" class=\"data row3 col1\" >LA|50</td>\n",
       "      <td id=\"T_8a479_row3_col2\" class=\"data row3 col2\" >NoHo Senior Villas</td>\n",
       "      <td id=\"T_8a479_row3_col3\" class=\"data row3 col3\" >2013-01-09</td>\n",
       "      <td id=\"T_8a479_row3_col4\" class=\"data row3 col4\" >nan</td>\n",
       "    </tr>\n",
       "    <tr>\n",
       "      <th id=\"T_8a479_level0_row4\" class=\"row_heading level0 row4\" >4</th>\n",
       "      <td id=\"T_8a479_row4_col0\" class=\"data row4 col0\" >LA|1223</td>\n",
       "      <td id=\"T_8a479_row4_col1\" class=\"data row4 col1\" >LA|50</td>\n",
       "      <td id=\"T_8a479_row4_col2\" class=\"data row4 col2\" >Villas at Gower</td>\n",
       "      <td id=\"T_8a479_row4_col3\" class=\"data row4 col3\" >2012-02-27</td>\n",
       "      <td id=\"T_8a479_row4_col4\" class=\"data row4 col4\" >nan</td>\n",
       "    </tr>\n",
       "  </tbody>\n",
       "</table>\n"
      ],
      "text/plain": [
       "<pandas.io.formats.style.Styler at 0x7fdeee663250>"
      ]
     },
     "metadata": {},
     "output_type": "display_data"
    }
   ],
   "source": [
    "import boto3\n",
    "import pandas as pd\n",
    "from io import StringIO\n",
    "from IPython.display import display\n",
    "\n",
    "bucket_name = 'capstone-hmis'\n",
    "file_key = 'LA/Project.csv'\n",
    "\n",
    "# Create a boto3 client to interact with S3\n",
    "s3 = boto3.client('s3')\n",
    "\n",
    "# Read the file from S3\n",
    "try:\n",
    "    # Fetch the file from S3\n",
    "    s3_object = s3.get_object(Bucket=bucket_name, Key=file_key)\n",
    "    # Read the content of the file\n",
    "    file_content = s3_object['Body'].read().decode('utf-8')\n",
    "    # Convert to a Pandas DataFrame\n",
    "    df = pd.read_csv(StringIO(file_content))\n",
    "    \n",
    "    styled_df = df[['ProjectID', 'OrganizationID', 'ProjectName', 'OperatingStartDate', 'OperatingEndDate']].head().style.set_table_styles(\n",
    "        [{\n",
    "            'selector': 'table',\n",
    "            'props': [('max-width', '1000px'), ('overflow-x', 'scroll'), ('display', 'block')]\n",
    "        }]\n",
    "    )\n",
    "\n",
    "    # Display the styled DataFrame\n",
    "    display(styled_df)\n",
    "\n",
    "except Exception as e:\n",
    "    print(f\"Error reading file from S3: {e}\")\n"
   ]
  },
  {
   "cell_type": "markdown",
   "id": "40615ce2",
   "metadata": {},
   "source": [
    "## Write a simple text file"
   ]
  },
  {
   "cell_type": "code",
   "execution_count": 2,
   "id": "e87d3a9c",
   "metadata": {},
   "outputs": [
    {
     "name": "stdout",
     "output_type": "stream",
     "text": [
      "Text blob successfully written to test_file.txt in S3 bucket capstone-hmis.\n",
      "Text blob read from S3:\n",
      "This is a simple text blob that will be written to the S3 bucket.\n",
      "File test_file.txt successfully deleted from S3 bucket capstone-hmis.\n"
     ]
    }
   ],
   "source": [
    "import boto3\n",
    "\n",
    "file_key = 'test_file.txt'\n",
    "\n",
    "# Step 1: Write the text blob to the S3 bucket\n",
    "text_blob = \"This is a simple text blob that will be written to the S3 bucket.\"\n",
    "\n",
    "try:\n",
    "    s3.put_object(Bucket=bucket_name, Key=file_key, Body=text_blob)\n",
    "    print(f\"Text blob successfully written to {file_key} in S3 bucket {bucket_name}.\")\n",
    "except Exception as e:\n",
    "    print(f\"Error writing file to S3: {e}\")\n",
    "\n",
    "# Step 2: Read the text blob back from the S3 bucket\n",
    "try:\n",
    "    s3_object = s3.get_object(Bucket=bucket_name, Key=file_key)\n",
    "    file_content = s3_object['Body'].read().decode('utf-8')\n",
    "    print(\"Text blob read from S3:\")\n",
    "    print(file_content)\n",
    "except Exception as e:\n",
    "    print(f\"Error reading file from S3: {e}\")\n",
    "\n",
    "# Step 3: Delete the file from the S3 bucket\n",
    "try:\n",
    "    s3.delete_object(Bucket=bucket_name, Key=file_key)\n",
    "    print(f\"File {file_key} successfully deleted from S3 bucket {bucket_name}.\")\n",
    "except Exception as e:\n",
    "    print(f\"Error deleting file from S3: {e}\")\n"
   ]
  }
 ],
 "metadata": {
  "kernelspec": {
   "display_name": "conda_python3",
   "language": "python",
   "name": "conda_python3"
  },
  "language_info": {
   "codemirror_mode": {
    "name": "ipython",
    "version": 3
   },
   "file_extension": ".py",
   "mimetype": "text/x-python",
   "name": "python",
   "nbconvert_exporter": "python",
   "pygments_lexer": "ipython3",
   "version": "3.10.14"
  }
 },
 "nbformat": 4,
 "nbformat_minor": 5
}
